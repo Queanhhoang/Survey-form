{
 "cells": [
  {
   "cell_type": "markdown",
   "metadata": {},
   "source": [
    "Phân tích : Tổng quan ->chi tiết -> đầu -> cuối (form chỉ phân tích html và từng phần),\n",
    "Code: html ( nền: Tổng quan ->chi tiết), chi tiết đầu -> cuối (html+css)\n",
    "`HTML->CSS`\n",
    "`NHỚ LIÊN KẾT CSS VỚI HTML`\n",
    "# body 424395\n",
    "css-bg\n",
    "    -bg-img + opacity\n",
    "    -color: f3f3f3-->`thẻ nhập mới màu trắng`\n",
    "    -font-family:Poppins\n",
    "    - width + height: max\n",
    "    \n",
    "`Vấn đề : ảnh sau màu`\n",
    "# heading\n",
    "-h1,p\n",
    "-p: center\n",
    "# form (bc: 1b1b32)\n",
    "# fieldset 1\n",
    "-label: name,email,age,q1\n",
    "-input (type:text/email/number(min=10,max=99)/select(option[0]+ option*5))\n",
    ".special: option[0]\n",
    "\n",
    "-label:quiz\n",
    "-input: radio*3\n",
    "# fieldset 2\n",
    "-label: quiz\n",
    "-input: select(option[0]+ option*4)\n",
    "\n",
    "-label:quiz\n",
    "-input:checkbox\n",
    "\n",
    "-label:quiz\n",
    "-input:textarea \n",
    "# submit button\n",
    "\n",
    "`class=inline, unset : vô hiệu hoá`\n",
    "vertical-align:middle;\n",
    "\n",
    "\n",
    "\n",
    "\n",
    "\n",
    "\n",
    "\n"
   ]
  },
  {
   "cell_type": "markdown",
   "metadata": {},
   "source": [
    "# Vấn đề\n",
    "1.không hiện option[0] lên select\n",
    "\n",
    "# Quan trọng  width:70vw;\n",
    ". vmin && vmax : tuỳ thuộc độ đo trình duyệt\n",
    " Ví dụ: nếu trình duyệt được đặt chiều rộng 1100px và chiều cao 700px, 1vmin sẽ là 7px và 1vmax sẽ là 11px. Tuy nhiên, nếu chiều rộng được đặt là 800px và chiều cao đặt là 1080px, vmin sẽ bằng 8px trong khi vmax sẽ được đặt thành 10.8px.\n",
    " .vh = . /100 height (khung nhìn)\n",
    "\n"
   ]
  }
 ],
 "metadata": {
  "kernelspec": {
   "display_name": "Python 3.9.16 ('ML')",
   "language": "python",
   "name": "python3"
  },
  "language_info": {
   "name": "python",
   "version": "3.9.16"
  },
  "orig_nbformat": 4,
  "vscode": {
   "interpreter": {
    "hash": "c471e453e401db54836ab23c092d3501caf23d855aab7a9ab35a10f57d9c5e04"
   }
  }
 },
 "nbformat": 4,
 "nbformat_minor": 2
}
